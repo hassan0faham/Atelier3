{
 "cells": [
  {
   "cell_type": "code",
   "execution_count": 42,
   "id": "96a6b274",
   "metadata": {},
   "outputs": [],
   "source": [
    "import tensorflow as tf\n",
    "import numpy as np"
   ]
  },
  {
   "cell_type": "code",
   "execution_count": 2,
   "id": "25fecef2",
   "metadata": {},
   "outputs": [
    {
     "name": "stderr",
     "output_type": "stream",
     "text": [
      "  % Total    % Received % Xferd  Average Speed   Time    Time     Time  Current\n",
      "                                 Dload  Upload   Total   Spent    Left  Speed\n",
      "\n",
      "  0     0    0     0    0     0      0      0 --:--:-- --:--:-- --:--:--     0\n",
      "  0     0    0     0    0     0      0      0 --:--:-- --:--:-- --:--:--     0\n",
      "  0 80.2M    0 32768    0     0  19363      0  1:12:24  0:00:01  1:12:23 19366\n",
      "  0 80.2M    0  208k    0     0  80222      0  0:17:28  0:00:02  0:17:26 80222\n",
      "  0 80.2M    0  448k    0     0   121k      0  0:11:13  0:00:03  0:11:10  121k\n",
      "  0 80.2M    0  752k    0     0   160k      0  0:08:30  0:00:04  0:08:26  160k\n",
      "  1 80.2M    1 1280k    0     0   226k      0  0:06:02  0:00:05  0:05:57  267k\n",
      "  2 80.2M    2 1968k    0     0   296k      0  0:04:37  0:00:06  0:04:31  390k\n",
      "  3 80.2M    3 2992k    0     0   391k      0  0:03:29  0:00:07  0:03:22  557k\n",
      "  5 80.2M    5 4224k    0     0   488k      0  0:02:48  0:00:08  0:02:40  758k\n",
      "  6 80.2M    6 5536k    0     0   574k      0  0:02:23  0:00:09  0:02:14  962k\n",
      "  8 80.2M    8 6768k    0     0   635k      0  0:02:09  0:00:10  0:01:59 1097k\n",
      "  9 80.2M    9 7568k    0     0   628k      0  0:02:10  0:00:12  0:01:58 1035k\n",
      "  9 80.2M    9 7648k    0     0   596k      0  0:02:17  0:00:12  0:02:05  899k\n",
      " 10 80.2M   10 8992k    0     0   659k      0  0:02:04  0:00:13  0:01:51  954k\n",
      " 11 80.2M   11 9760k    0     0   666k      0  0:02:03  0:00:14  0:01:49  844k\n",
      " 13 80.2M   13 10.6M    0     0   695k      0  0:01:58  0:00:15  0:01:43  822k\n",
      " 14 80.2M   14 11.8M    0     0   730k      0  0:01:52  0:00:16  0:01:36  999k\n",
      " 16 80.2M   16 13.1M    0     0   763k      0  0:01:47  0:00:17  0:01:30 1207k\n",
      " 17 80.2M   17 14.4M    0     0   792k      0  0:01:43  0:00:18  0:01:25 1155k\n",
      " 18 80.2M   18 15.1M    0     0   769k      0  0:01:46  0:00:20  0:01:26 1046k\n",
      " 19 80.2M   19 15.8M    0     0   787k      0  0:01:44  0:00:20  0:01:24 1074k\n",
      " 20 80.2M   20 16.5M    0     0   784k      0  0:01:44  0:00:21  0:01:23  963k\n",
      " 22 80.2M   22 17.8M    0     0   806k      0  0:01:41  0:00:22  0:01:19  956k\n",
      " 23 80.2M   23 19.1M    0     0   827k      0  0:01:39  0:00:23  0:01:16  959k\n",
      " 25 80.2M   25 20.3M    0     0   846k      0  0:01:37  0:00:24  0:01:13 1187k\n",
      " 26 80.2M   26 21.6M    0     0   864k      0  0:01:35  0:00:25  0:01:10 1180k\n",
      " 28 80.2M   28 22.9M    0     0   880k      0  0:01:33  0:00:26  0:01:07 1296k\n",
      " 30 80.2M   30 24.1M    0     0   893k      0  0:01:31  0:00:27  0:01:04 1289k\n",
      " 31 80.2M   31 24.9M    0     0   890k      0  0:01:32  0:00:28  0:01:04 1190k\n",
      " 32 80.2M   32 25.7M    0     0   887k      0  0:01:32  0:00:29  0:01:03 1091k\n",
      " 33 80.2M   33 26.7M    0     0   892k      0  0:01:32  0:00:30  0:01:02 1040k\n",
      " 34 80.2M   34 27.5M    0     0   890k      0  0:01:32  0:00:31  0:01:01  946k\n",
      " 35 80.2M   35 28.4M    0     0   892k      0  0:01:32  0:00:32  0:01:00  885k\n",
      " 36 80.2M   36 29.5M    0     0   899k      0  0:01:31  0:00:33  0:00:58  947k\n",
      " 38 80.2M   38 30.7M    0     0   907k      0  0:01:30  0:00:34  0:00:56 1023k\n",
      " 39 80.2M   39 31.8M    0     0   914k      0  0:01:29  0:00:35  0:00:54 1049k\n",
      " 40 80.2M   40 32.7M    0     0   914k      0  0:01:29  0:00:36  0:00:53 1067k\n",
      " 41 80.2M   41 33.5M    0     0   913k      0  0:01:29  0:00:37  0:00:52 1050k\n",
      " 42 80.2M   42 34.4M    0     0   912k      0  0:01:29  0:00:38  0:00:51 1004k\n",
      " 43 80.2M   43 35.2M    0     0   910k      0  0:01:30  0:00:39  0:00:51  931k\n",
      " 45 80.2M   45 36.5M    0     0   919k      0  0:01:29  0:00:40  0:00:49  953k\n",
      " 47 80.2M   47 37.7M    0     0   929k      0  0:01:28  0:00:41  0:00:47 1033k\n",
      " 48 80.2M   48 39.0M    0     0   937k      0  0:01:27  0:00:42  0:00:45 1120k\n",
      " 50 80.2M   50 40.1M    0     0   942k      0  0:01:27  0:00:43  0:00:44 1171k\n",
      " 51 80.2M   51 41.1M    0     0   944k      0  0:01:26  0:00:44  0:00:42 1213k\n",
      " 51 80.2M   51 41.5M    0     0   931k      0  0:01:28  0:00:45  0:00:43 1030k\n",
      " 52 80.2M   52 42.5M    0     0   933k      0  0:01:28  0:00:46  0:00:42  966k\n",
      " 53 80.2M   53 43.2M    0     0   929k      0  0:01:28  0:00:47  0:00:41  862k\n",
      " 54 80.2M   54 44.0M    0     0   928k      0  0:01:28  0:00:48  0:00:40  803k\n",
      " 55 80.2M   55 44.9M    0     0   926k      0  0:01:28  0:00:49  0:00:39  764k\n",
      " 57 80.2M   57 46.1M    0     0   932k      0  0:01:28  0:00:50  0:00:38  943k\n",
      " 59 80.2M   59 47.3M    0     0   938k      0  0:01:27  0:00:51  0:00:36  993k\n",
      " 60 80.2M   60 48.6M    0     0   946k      0  0:01:26  0:00:52  0:00:34 1102k\n",
      " 62 80.2M   62 49.8M    0     0   951k      0  0:01:26  0:00:53  0:00:33 1174k\n",
      " 63 80.2M   63 50.7M    0     0   951k      0  0:01:26  0:00:54  0:00:32 1200k\n",
      " 64 80.2M   64 51.6M    0     0   950k      0  0:01:26  0:00:55  0:00:31 1127k\n",
      " 65 80.2M   65 52.6M    0     0   951k      0  0:01:26  0:00:56  0:00:30 1086k\n",
      " 67 80.2M   67 53.9M    0     0   958k      0  0:01:25  0:00:57  0:00:28 1084k\n",
      " 68 80.2M   68 55.2M    0     0   963k      0  0:01:25  0:00:58  0:00:27 1100k\n",
      " 70 80.2M   70 56.4M    0     0   969k      0  0:01:24  0:00:59  0:00:25 1171k\n",
      " 71 80.2M   71 57.7M    0     0   974k      0  0:01:24  0:01:00  0:00:24 1247k\n",
      " 72 80.2M   72 58.5M    0     0   965k      0  0:01:25  0:01:02  0:00:23 1101k\n",
      " 73 80.2M   73 59.1M    0     0   966k      0  0:01:24  0:01:02  0:00:22 1068k\n",
      " 74 80.2M   74 60.0M    0     0   959k      0  0:01:25  0:01:04  0:00:21  913k\n",
      " 76 80.2M   76 61.0M    0     0   967k      0  0:01:24  0:01:04  0:00:20  937k\n",
      " 77 80.2M   77 62.1M    0     0   970k      0  0:01:24  0:01:05  0:00:19  912k\n",
      " 79 80.2M   79 63.4M    0     0   975k      0  0:01:24  0:01:06  0:00:18 1113k\n",
      " 80 80.2M   80 64.7M    0     0   979k      0  0:01:23  0:01:07  0:00:16 1142k\n",
      " 82 80.2M   82 66.0M    0     0   984k      0  0:01:23  0:01:08  0:00:15 1342k\n",
      " 83 80.2M   83 67.1M    0     0   987k      0  0:01:23  0:01:09  0:00:14 1254k\n",
      " 85 80.2M   85 68.2M    0     0   989k      0  0:01:23  0:01:10  0:00:13 1238k\n",
      " 86 80.2M   86 69.1M    0     0   988k      0  0:01:23  0:01:11  0:00:12 1164k\n",
      " 87 80.2M   87 70.0M    0     0   987k      0  0:01:23  0:01:12  0:00:11 1085k\n",
      " 88 80.2M   88 71.2M    0     0   990k      0  0:01:22  0:01:13  0:00:09 1075k\n",
      " 90 80.2M   90 72.5M    0     0   995k      0  0:01:22  0:01:14  0:00:08 1094k\n",
      " 91 80.2M   91 73.7M    0     0   998k      0  0:01:22  0:01:15  0:00:07 1128k\n",
      " 93 80.2M   93 75.0M    0     0  1002k      0  0:01:21  0:01:16  0:00:05 1200k\n",
      " 94 80.2M   94 76.2M    0     0  1004k      0  0:01:21  0:01:17  0:00:04 1263k\n",
      " 96 80.2M   96 77.3M    0     0  1007k      0  0:01:21  0:01:18  0:00:03 1247k\n",
      " 97 80.2M   97 78.0M    0     0  1001k      0  0:01:22  0:01:19  0:00:03 1095k\n",
      " 98 80.2M   98 78.8M    0     0   998k      0  0:01:22  0:01:20  0:00:02 1005k\n",
      " 98 80.2M   98 79.1M    0     0   989k      0  0:01:23  0:01:21  0:00:02  799k\n",
      " 98 80.2M   98 79.2M    0     0   979k      0  0:01:23  0:01:22  0:00:01  596k\n",
      "100 80.2M  100 80.2M    0     0   989k      0  0:01:23  0:01:23 --:--:--  667k\n"
     ]
    }
   ],
   "source": [
    "!curl -O https://ai.stanford.edu/~amaas/data/sentiment/aclImdb_v1.tar.gz\n",
    "!tar -xf aclImdb_v1.tar.gz"
   ]
  },
  {
   "cell_type": "code",
   "execution_count": 3,
   "id": "5cd5e425",
   "metadata": {},
   "outputs": [
    {
     "name": "stdout",
     "output_type": "stream",
     "text": [
      " Le volume dans le lecteur C n'a pas de nom.\n",
      " Le num‚ro de s‚rie du volume est 8011-DD18\n",
      "\n",
      " R‚pertoire de C:\\Users\\Setup Game\\Desktop\\Chat-Voice bots\\NeuralNet_venv\\Scripts\\aclImdb\n",
      "\n",
      "21/11/2022  18:42    <DIR>          .\n",
      "21/11/2022  18:42    <DIR>          ..\n",
      "12/04/2011  18:14           845ÿ980 imdb.vocab\n",
      "11/06/2011  23:54           903ÿ029 imdbEr.txt\n",
      "26/06/2011  01:18             4ÿ037 README\n",
      "21/11/2022  18:42    <DIR>          test\n",
      "21/11/2022  18:42    <DIR>          train\n",
      "               3 fichier(s)        1ÿ753ÿ046 octets\n",
      "               4 R‚p(s)  42ÿ023ÿ432ÿ192 octets libres\n"
     ]
    }
   ],
   "source": [
    "%ls aclImdb"
   ]
  },
  {
   "cell_type": "code",
   "execution_count": 4,
   "id": "dbcb5454",
   "metadata": {},
   "outputs": [
    {
     "name": "stdout",
     "output_type": "stream",
     "text": [
      " Le volume dans le lecteur C n'a pas de nom.\n",
      " Le num‚ro de s‚rie du volume est 8011-DD18\n",
      "\n",
      " R‚pertoire de C:\\Users\\Setup Game\\Desktop\\Chat-Voice bots\\NeuralNet_venv\\Scripts\\aclImdb\\test\n",
      "\n",
      "21/11/2022  18:42    <DIR>          .\n",
      "21/11/2022  18:42    <DIR>          ..\n",
      "12/04/2011  18:25        20ÿ205ÿ283 labeledBow.feat\n",
      "21/11/2022  18:42    <DIR>          neg\n",
      "21/11/2022  18:42    <DIR>          pos\n",
      "12/04/2011  10:48           612ÿ500 urls_neg.txt\n",
      "12/04/2011  10:48           612ÿ500 urls_pos.txt\n",
      "               3 fichier(s)       21ÿ430ÿ283 octets\n",
      "               4 R‚p(s)  42ÿ023ÿ432ÿ192 octets libres\n"
     ]
    }
   ],
   "source": [
    "%ls aclImdb\\test"
   ]
  },
  {
   "cell_type": "code",
   "execution_count": 5,
   "id": "9bd95108",
   "metadata": {},
   "outputs": [
    {
     "name": "stdout",
     "output_type": "stream",
     "text": [
      " Le volume dans le lecteur C n'a pas de nom.\n",
      " Le num‚ro de s‚rie du volume est 8011-DD18\n",
      "\n",
      " R‚pertoire de C:\\Users\\Setup Game\\Desktop\\Chat-Voice bots\\NeuralNet_venv\\Scripts\\aclImdb\\train\n",
      "\n",
      "21/11/2022  18:42    <DIR>          .\n",
      "21/11/2022  18:42    <DIR>          ..\n",
      "12/04/2011  18:17        21ÿ021ÿ197 labeledBow.feat\n",
      "21/11/2022  18:42    <DIR>          neg\n",
      "21/11/2022  18:42    <DIR>          pos\n",
      "21/11/2022  18:43    <DIR>          unsup\n",
      "12/04/2011  18:22        41ÿ348ÿ699 unsupBow.feat\n",
      "12/04/2011  10:48           612ÿ500 urls_neg.txt\n",
      "12/04/2011  10:48           612ÿ500 urls_pos.txt\n",
      "12/04/2011  10:47         2ÿ450ÿ000 urls_unsup.txt\n",
      "               5 fichier(s)       66ÿ044ÿ896 octets\n",
      "               5 R‚p(s)  42ÿ023ÿ432ÿ192 octets libres\n"
     ]
    }
   ],
   "source": [
    "%ls aclImdb\\train"
   ]
  },
  {
   "cell_type": "markdown",
   "id": "819f52e8",
   "metadata": {},
   "source": [
    "<h5>Cet exemple montre comment faire de la classification de texte à partir de texte brut (comme un ensemble de fichiers texte sur le disque). Nous démontrons le flux de travail sur le jeu de données de classification de sentiments IMDB. Nous utilisons la couche TextVectorization pour le découpage des mots et l'indexation.<h5>"
   ]
  },
  {
   "cell_type": "code",
   "execution_count": 54,
   "id": "56bb7aeb",
   "metadata": {},
   "outputs": [
    {
     "name": "stdout",
     "output_type": "stream",
     "text": [
      "Being an Austrian myself this has been a straight knock in my face. Fortunately I don't live nowhere near the place where this movie takes place but unfortunately it portrays everything that the rest of Austria hates about Viennese people (or people close to that region). And it is very easy to read that this is exactly the directors intention: to let your head sink into your hands and say \"Oh my god, how can THAT be possible!\". No, not with me, the (in my opinion) totally exaggerated uncensored swinger club scene is not necessary, I watch porn, sure, but in this context I was rather disgusted than put in the right context.<br /><br />This movie tells a story about how misled people who suffer from lack of education or bad company try to survive and live in a world of redundancy and boring horizons. A girl who is treated like a whore by her super-jealous boyfriend (and still keeps coming back), a female teacher who discovers her masochism by putting the life of her super-cruel \"lover\" on the line, an old couple who has an almost mathematical daily cycle (she is the \"official replacement\" of his ex wife), a couple that has just divorced and has the ex husband suffer under the acts of his former wife obviously having a relationship with her masseuse and finally a crazy hitchhiker who asks her drivers the most unusual questions and stretches their nerves by just being super-annoying.<br /><br />After having seen it you feel almost nothing. You're not even shocked, sad, depressed or feel like doing anything... Maybe that's why I gave it 7 points, it made me react in a way I never reacted before. If that's good or bad is up to you!\n"
     ]
    }
   ],
   "source": [
    "!type aclImdb\\train\\pos\\6248_7.txt\n"
   ]
  },
  {
   "cell_type": "code",
   "execution_count": 35,
   "id": "f7ae1678",
   "metadata": {},
   "outputs": [],
   "source": [
    "import shutil\n",
    "\n",
    "shutil.rmtree('./aclImdb/train/unsup', ignore_errors=True)"
   ]
  },
  {
   "cell_type": "markdown",
   "id": "541e8af9",
   "metadata": {},
   "source": [
    "<h5>nous pouvons utiliser l'utilitaire tf.keras.preprocessing.text_dataset_from_directory pour générer un objet tf.data.Dataset étiqueté à partir d'un ensemble de fichiers texte sur le disque classés dans des dossiers spécifiques à la classe.\n",
    "\n",
    "Nous allons l'utiliser pour générer les ensembles de données de formation, de validation et de test. Les ensembles de données de validation et d'apprentissage sont générés à partir de deux sous-ensembles du répertoire train, avec 20% des échantillons allant à l'ensemble de données de validation et 80% allant à l'ensemble de données d'apprentissage.\n",
    "\n",
    "\n",
    "Lors de l'utilisation des arguments validation_split & subset, nous devons nous assurer de spécifier une graine aléatoire, ou de passer shuffle=False, afin que les splits de validation et de formation que vous obtenez ne se chevauchent pas.<h5>"
   ]
  },
  {
   "cell_type": "code",
   "execution_count": 46,
   "id": "aee44c4e",
   "metadata": {},
   "outputs": [
    {
     "name": "stdout",
     "output_type": "stream",
     "text": [
      "Found 25000 files belonging to 2 classes.\n",
      "Using 20000 files for training.\n",
      "Found 25000 files belonging to 2 classes.\n",
      "Using 5000 files for validation.\n",
      "Found 25000 files belonging to 2 classes.\n",
      "Number of batches in raw_train_ds: 625\n",
      "Number of batches in raw_val_ds: 157\n",
      "Number of batches in raw_test_ds: 782\n"
     ]
    }
   ],
   "source": [
    "batch_size = 32\n",
    "raw_train_ds = tf.keras.preprocessing.text_dataset_from_directory(\n",
    "    \"aclImdb/train\",\n",
    "    batch_size=batch_size,\n",
    "    validation_split=0.2,\n",
    "    subset=\"training\",\n",
    "    seed=1337,\n",
    ")\n",
    "raw_val_ds = tf.keras.preprocessing.text_dataset_from_directory(\n",
    "    \"aclImdb/train\",\n",
    "    batch_size=batch_size,\n",
    "    validation_split=0.2,\n",
    "    subset=\"validation\",\n",
    "    seed=1337,\n",
    ")\n",
    "raw_test_ds = tf.keras.preprocessing.text_dataset_from_directory(\n",
    "    \"aclImdb/test\", batch_size=batch_size\n",
    ")\n",
    "\n",
    "print(f\"Number of batches in raw_train_ds: {raw_train_ds.cardinality()}\")\n",
    "print(f\"Number of batches in raw_val_ds: {raw_val_ds.cardinality()}\")\n",
    "print(f\"Number of batches in raw_test_ds: {raw_test_ds.cardinality()}\")"
   ]
  },
  {
   "cell_type": "markdown",
   "id": "63ec7b5c",
   "metadata": {},
   "source": [
    "<h5>Voyons quelques exemples :<h5>"
   ]
  },
  {
   "cell_type": "code",
   "execution_count": 47,
   "id": "97c346e5",
   "metadata": {},
   "outputs": [
    {
     "name": "stdout",
     "output_type": "stream",
     "text": [
      "b'I\\'ve seen tons of science fiction from the 70s; some horrendously bad, and others thought provoking and truly frightening. Soylent Green fits into the latter category. Yes, at times it\\'s a little campy, and yes, the furniture is good for a giggle or two, but some of the film seems awfully prescient. Here we have a film, 9 years before Blade Runner, that dares to imagine the future as somthing dark, scary, and nihilistic. Both Charlton Heston and Edward G. Robinson fare far better in this than The Ten Commandments, and Robinson\\'s assisted-suicide scene is creepily prescient of Kevorkian and his ilk. Some of the attitudes are dated (can you imagine a filmmaker getting away with the \"women as furniture\" concept in our oh-so-politically-correct-90s?), but it\\'s rare to find a film from the Me Decade that actually can make you think. This is one I\\'d love to see on the big screen, because even in a widescreen presentation, I don\\'t think the overall scope of this film would receive its due. Check it out.'\n",
      "1\n",
      "b'First than anything, I\\'m not going to praise I\\xc3\\xb1arritu\\'s short film, even I\\'m Mexican and proud of his success in mainstream Hollywood.<br /><br />In another hand, I see most of the reviews focuses on their favorite (and not so) short films; but we are forgetting that there is a subtle bottom line that circles the whole compilation, and maybe it will not be so pleasant for American people. (Even if that was not the main purpose of the producers) <br /><br />What i\\'m talking about is that most of the short films does not show the suffering that WASP people went through because the terrorist attack on September 11th, but the suffering of the Other people.<br /><br />Do you need proofs about what i\\'m saying? Look, in the Bosnia short film, the message is: \"You cry because of the people who died in the Towers, but we (The Others = East Europeans) are crying long ago for the crimes committed against our women and nobody pay attention to us like the whole world has done to you\".<br /><br />Even though the Burkina Fasso story is more in comedy, there is a the same thought: \"You are angry because Osama Bin Laden punched you in an evil way, but we (The Others = Africans) should be more angry, because our people is dying of hunger, poverty and AIDS long time ago, and nobody pay attention to us like the whole world has done to you\".<br /><br />Look now at the Sean Penn short: The fall of the Twin Towers makes happy to a lonely (and alienated) man. So the message is that the Power and the Greed (symbolized by the Towers) must fall for letting the people see the sun rise and the flowers blossom? It is remarkable that this terrible bottom line has been proposed by an American. There is so much irony in this short film that it is close to be subversive.<br /><br />Well, the Ken Loach (very know because his anti-capitalism ideology) is much more clearly and shameless in going straight to the point: \"You are angry because your country has been attacked by evil forces, but we (The Others = Latin Americans) suffered at a similar date something worst, and nobody remembers our grief as the whole world has done to you\".<br /><br />It is like if the creative of this project wanted to say to Americans: \"You see now, America? You are not the only that have become victim of the world violence, you are not alone in your pain and by the way, we (the Others = the Non Americans) have been suffering a lot more than you from long time ago; so, we are in solidarity with you in your pain... and by the way, we are sorry because you have had some taste of your own medicine\" Only the Mexican and the French short films showed some compassion and sympathy for American people; the others are like a slap on the face for the American State, that is not equal to American People.'\n",
      "1\n",
      "b'Blood Castle (aka Scream of the Demon Lover, Altar of Blood, Ivanna--the best, but least exploitation cinema-sounding title, and so on) is a very traditional Gothic Romance film. That means that it has big, creepy castles, a headstrong young woman, a mysterious older man, hints of horror and the supernatural, and romance elements in the contemporary sense of that genre term. It also means that it is very deliberately paced, and that the film will work best for horror mavens who are big fans of understatement. If you love films like Robert Wise\\'s The Haunting (1963), but you also have a taste for late 1960s/early 1970s Spanish and Italian horror, you may love Blood Castle, as well.<br /><br />Baron Janos Dalmar (Carlos Quiney) lives in a large castle on the outskirts of a traditional, unspecified European village. The locals fear him because legend has it that whenever he beds a woman, she soon after ends up dead--the consensus is that he sets his ferocious dogs on them. This is quite a problem because the Baron has a very healthy appetite for women. At the beginning of the film, yet another woman has turned up dead and mutilated.<br /><br />Meanwhile, Dr. Ivanna Rakowsky (Erna Sch\\xc3\\xbcrer) has appeared in the center of the village, asking to be taken to Baron Dalmar\\'s castle. She\\'s an out-of-towner who has been hired by the Baron for her expertise in chemistry. Of course, no one wants to go near the castle. Finally, Ivanna finds a shady individual (who becomes even shadier) to take her. Once there, an odd woman who lives in the castle, Olga (Cristiana Galloni), rejects Ivanna and says that she shouldn\\'t be there since she\\'s a woman. Baron Dalmar vacillates over whether she should stay. She ends up staying, but somewhat reluctantly. The Baron has hired her to try to reverse the effects of severe burns, which the Baron\\'s brother, Igor, is suffering from.<br /><br />Unfortunately, the Baron\\'s brother appears to be just a lump of decomposing flesh in a vat of bizarre, blackish liquid. And furthermore, Ivanna is having bizarre, hallucinatory dreams. Just what is going on at the castle? Is the Baron responsible for the crimes? Is he insane? <br /><br />I wanted to like Blood Castle more than I did. As I mentioned, the film is very deliberate in its pacing, and most of it is very understated. I can go either way on material like that. I don\\'t care for The Haunting (yes, I\\'m in a very small minority there), but I\\'m a big fan of 1960s and 1970s European horror. One of my favorite directors is Mario Bava. I also love Dario Argento\\'s work from that period. But occasionally, Blood Castle moved a bit too slow for me at times. There are large chunks that amount to scenes of not very exciting talking alternated with scenes of Ivanna slowly walking the corridors of the castle.<br /><br />But the atmosphere of the film is decent. Director Jos\\xc3\\xa9 Luis Merino managed more than passable sets and locations, and they\\'re shot fairly well by Emanuele Di Cola. However, Blood Castle feels relatively low budget, and this is a Roger Corman-produced film, after all (which usually means a low-budget, though often surprisingly high quality \"quickie\"). So while there is a hint of the lushness of Bava\\'s colors and complex set decoration, everything is much more minimalist. Of course, it doesn\\'t help that the Retromedia print I watched looks like a 30-year old photograph that\\'s been left out in the sun too long. It appears \"washed out\", with compromised contrast.<br /><br />Still, Merino and Di Cola occasionally set up fantastic visuals. For example, a scene of Ivanna walking in a darkened hallway that\\'s shot from an exaggerated angle, and where an important plot element is revealed through shadows on a wall only. There are also a couple Ingmar Bergmanesque shots, where actors are exquisitely blocked to imply complex relationships, besides just being visually attractive and pulling your eye deep into the frame.<br /><br />The performances are fairly good, and the women--especially Sch\\xc3\\xbcrer--are very attractive. Merino exploits this fact by incorporating a decent amount of nudity. Sch\\xc3\\xbcrer went on to do a number of films that were as much soft corn porn as they were other genres, with English titles such as Sex Life in a Woman\\'s Prison (1974), Naked and Lustful (1974), Strip Nude for Your Killer (1975) and Erotic Exploits of a Sexy Seducer (1977). Blood Castle is much tamer, but in addition to the nudity, there are still mild scenes suggesting rape and bondage, and of course the scenes mixing sex and death.<br /><br />The primary attraction here, though, is probably the story, which is much a slow-burning romance as anything else. The horror elements, the mystery elements, and a somewhat unexpected twist near the end are bonuses, but in the end, Blood Castle is a love story, about a couple overcoming various difficulties and antagonisms (often with physical threats or harms) to be together.'\n",
      "1\n",
      "b\"I was talked into watching this movie by a friend who blubbered on about what a cute story this was.<br /><br />Yuck.<br /><br />I want my two hours back, as I could have done SO many more productive things with my time...like, for instance, twiddling my thumbs. I see nothing redeeming about this film at all, save for the eye-candy aspect of it...<br /><br />3/10 (and that's being generous)\"\n",
      "0\n",
      "b\"Michelle Rodriguez is the defining actress who could be the charging force for other actresses to look out for. She has the audacity to place herself in a rarely seen tough-girl role very early in her career (and pull it off), which is a feat that should be recognized. Although her later films pigeonhole her to that same role, this film was made for her ruggedness.<br /><br />Her character is a romanticized student/fighter/lover, struggling to overcome her disenchanted existence in the projects, which is a little overdone in film...but not by a girl. That aspect of this film isn't very original, but the story goes in depth when the heated relationships that this girl has to deal with come to a boil and her primal rage takes over.<br /><br />I haven't seen an actress take such an aggressive stance in movie-making yet, and I'm glad that she's getting that original twist out there in Hollywood. This film got a 7 from me because of the average story of ghetto youth, but it has such a great actress portraying a rarely-seen role in a minimal budget movie. Great work.\"\n",
      "1\n"
     ]
    }
   ],
   "source": [
    "# It's important to take a look at your raw data to ensure your normalization\n",
    "# and tokenization will work as expected. We can do that by taking a few\n",
    "# examples from the training set and looking at them.\n",
    "# This is one of the places where eager execution shines:\n",
    "# we can just evaluate these tensors using .numpy()\n",
    "# instead of needing to evaluate them in a Session/Graph context.\n",
    "for text_batch, label_batch in raw_train_ds.take(1):\n",
    "    for i in range(5):\n",
    "        print(text_batch.numpy()[i])\n",
    "        print(label_batch.numpy()[i])"
   ]
  },
  {
   "cell_type": "markdown",
   "id": "facaa20c",
   "metadata": {},
   "source": [
    "<h5>Après avoir examiné nos données ci-dessus, nous constatons que le texte brut contient des balises de rupture HTML de la forme '<br />'. Ces balises ne seront pas supprimées par le normalisateur par défaut (qui ne dépouille pas le HTML). Pour cette raison, nous devrons créer une fonction de normalisation personnalisée.<h5>\n",
    " <h5>Maintenant que nous avons notre normalisation personnalisée, nous pouvons instancier notre couche de vectorisation de texte. Nous utilisons cette couche pour normaliser, diviser et convertir les chaînes de caractères en nombres entiers, donc nous définissons notre 'output_mode' à 'int'.\n",
    "nous utilisons la fonction de division par défaut, et la normalisation personnalisée définie ci-dessus.\n",
    "Nous définissons également une longueur de séquence maximale explicite, puisque les CNNs plus tard dans notre modèle ne supporteront pas les séquences irrégulières.<h5>"
   ]
  },
  {
   "cell_type": "code",
   "execution_count": null,
   "id": "aa4363c9",
   "metadata": {},
   "outputs": [],
   "source": []
  },
  {
   "cell_type": "code",
   "execution_count": 48,
   "id": "39f05549",
   "metadata": {},
   "outputs": [],
   "source": [
    "from tensorflow.keras.layers import TextVectorization\n",
    "import string\n",
    "import re\n",
    "\n",
    "def custom_standardization(input_data):\n",
    "    lowercase = tf.strings.lower(input_data)\n",
    "    stripped_html = tf.strings.regex_replace(lowercase, \"<br />\", \" \")\n",
    "    return tf.strings.regex_replace(\n",
    "        stripped_html, f\"[{re.escape(string.punctuation)}]\", \"\"\n",
    "    )\n",
    "\n",
    "# Model constants.\n",
    "max_features = 20000\n",
    "embedding_dim = 128\n",
    "sequence_length = 500\n",
    "\n",
    "vectorize_layer = TextVectorization(\n",
    "    standardize=custom_standardization,\n",
    "    max_tokens=max_features,\n",
    "    output_mode=\"int\",\n",
    "    output_sequence_length=sequence_length,\n",
    ")\n",
    "\n",
    "# Now that the vocab layer has been created, call `adapt` on a text-only\n",
    "# dataset to create the vocabulary. You don't have to batch, but for very large\n",
    "# datasets this means you're not keeping spare copies of the dataset in memory.\n",
    "\n",
    "# Let's make a text-only dataset (no labels):\n",
    "text_ds = raw_train_ds.map(lambda x, y: x)\n",
    "# Let's call `adapt`:\n",
    "vectorize_layer.adapt(text_ds)"
   ]
  },
  {
   "cell_type": "code",
   "execution_count": 49,
   "id": "1f12125e",
   "metadata": {},
   "outputs": [],
   "source": [
    "def vectorize_text(text, label):\n",
    "    text = tf.expand_dims(text, -1)\n",
    "    return vectorize_layer(text), label\n",
    "\n",
    "\n",
    "# Vectorize the data.\n",
    "train_ds = raw_train_ds.map(vectorize_text)\n",
    "val_ds = raw_val_ds.map(vectorize_text)\n",
    "test_ds = raw_test_ds.map(vectorize_text)\n",
    "\n",
    "# Do async prefetching / buffering of the data for best performance on GPU.\n",
    "train_ds = train_ds.cache().prefetch(buffer_size=10)\n",
    "val_ds = val_ds.cache().prefetch(buffer_size=10)\n",
    "test_ds = test_ds.cache().prefetch(buffer_size=10)\n"
   ]
  },
  {
   "cell_type": "markdown",
   "id": "64c3663f",
   "metadata": {},
   "source": [
    "<h5>Nous choisissons un simple convnet 1D en commençant par Embedding layer<h5>"
   ]
  },
  {
   "cell_type": "code",
   "execution_count": 50,
   "id": "bf801ab3",
   "metadata": {},
   "outputs": [],
   "source": [
    "from tensorflow.keras import layers\n",
    "\n",
    "# A integer input for vocab indices.\n",
    "inputs = tf.keras.Input(shape=(None,), dtype=\"int64\")\n",
    "\n",
    "# Next, we add a layer to map those vocab indices into a space of dimensionality\n",
    "# 'embedding_dim'.\n",
    "x = layers.Embedding(max_features, embedding_dim)(inputs)\n",
    "x = layers.Dropout(0.5)(x)\n",
    "\n",
    "# Conv1D + global max pooling\n",
    "x = layers.Conv1D(128, 7, padding=\"valid\", activation=\"relu\", strides=3)(x)\n",
    "x = layers.Conv1D(128, 7, padding=\"valid\", activation=\"relu\", strides=3)(x)\n",
    "x = layers.GlobalMaxPooling1D()(x)\n",
    "\n",
    "# We add a vanilla hidden layer:\n",
    "x = layers.Dense(128, activation=\"relu\")(x)\n",
    "x = layers.Dropout(0.5)(x)\n",
    "\n",
    "# We project onto a single unit output layer, and squash it with a sigmoid:\n",
    "predictions = layers.Dense(1, activation=\"sigmoid\", name=\"predictions\")(x)\n",
    "\n",
    "model = tf.keras.Model(inputs, predictions)\n",
    "\n",
    "# Compile the model with binary crossentropy loss and an adam optimizer.\n",
    "model.compile(loss=\"binary_crossentropy\", optimizer=\"adam\", metrics=[\"accuracy\"])"
   ]
  },
  {
   "cell_type": "code",
   "execution_count": 51,
   "id": "8d4a7a85",
   "metadata": {},
   "outputs": [
    {
     "name": "stdout",
     "output_type": "stream",
     "text": [
      "Epoch 1/3\n",
      "625/625 [==============================] - 53s 83ms/step - loss: 0.5062 - accuracy: 0.7103 - val_loss: 0.3122 - val_accuracy: 0.8686\n",
      "Epoch 2/3\n",
      "625/625 [==============================] - 46s 74ms/step - loss: 0.2271 - accuracy: 0.9099 - val_loss: 0.3229 - val_accuracy: 0.8722\n",
      "Epoch 3/3\n",
      "625/625 [==============================] - 46s 74ms/step - loss: 0.1147 - accuracy: 0.9582 - val_loss: 0.4118 - val_accuracy: 0.8680\n"
     ]
    },
    {
     "data": {
      "text/plain": [
       "<keras.callbacks.History at 0x24f5b9a9520>"
      ]
     },
     "execution_count": 51,
     "metadata": {},
     "output_type": "execute_result"
    }
   ],
   "source": [
    "epochs = 3\n",
    "\n",
    "# Fit the model using the train and test datasets.\n",
    "model.fit(train_ds, validation_data=val_ds, epochs=epochs)"
   ]
  },
  {
   "cell_type": "code",
   "execution_count": 52,
   "id": "ca0d168e",
   "metadata": {},
   "outputs": [
    {
     "name": "stdout",
     "output_type": "stream",
     "text": [
      "782/782 [==============================] - 19s 24ms/step - loss: 0.4036 - accuracy: 0.8666\n"
     ]
    },
    {
     "data": {
      "text/plain": [
       "[0.40357086062431335, 0.866599977016449]"
      ]
     },
     "execution_count": 52,
     "metadata": {},
     "output_type": "execute_result"
    }
   ],
   "source": [
    "model.evaluate(test_ds)"
   ]
  },
  {
   "cell_type": "markdown",
   "id": "5530f058",
   "metadata": {},
   "source": [
    "<h5>Si nous voulons obtenir un modèle capable de traiter des chaînes de caractères brutes, nous pouvons simplement créer un nouveau modèle (en utilisant les poids que nous venons d'entraîner) :<h5>"
   ]
  },
  {
   "cell_type": "code",
   "execution_count": 53,
   "id": "2297e1b8",
   "metadata": {},
   "outputs": [
    {
     "name": "stdout",
     "output_type": "stream",
     "text": [
      "782/782 [==============================] - 11s 14ms/step - loss: 0.4036 - accuracy: 0.8666\n"
     ]
    },
    {
     "data": {
      "text/plain": [
       "[0.4035712778568268, 0.866599977016449]"
      ]
     },
     "execution_count": 53,
     "metadata": {},
     "output_type": "execute_result"
    }
   ],
   "source": [
    "# A string input\n",
    "inputs = tf.keras.Input(shape=(1,), dtype=\"string\")\n",
    "# Turn strings into vocab indices\n",
    "indices = vectorize_layer(inputs)\n",
    "# Turn vocab indices into predictions\n",
    "outputs = model(indices)\n",
    "\n",
    "# Our end to end model\n",
    "end_to_end_model = tf.keras.Model(inputs, outputs)\n",
    "end_to_end_model.compile(\n",
    "    loss=\"binary_crossentropy\", optimizer=\"adam\", metrics=[\"accuracy\"]\n",
    ")\n",
    "\n",
    "# Test it with `raw_test_ds`, which yields raw strings\n",
    "end_to_end_model.evaluate(raw_test_ds)"
   ]
  },
  {
   "cell_type": "code",
   "execution_count": null,
   "id": "992800d7",
   "metadata": {},
   "outputs": [],
   "source": []
  }
 ],
 "metadata": {
  "kernelspec": {
   "display_name": "Python 3 (ipykernel)",
   "language": "python",
   "name": "python3"
  },
  "language_info": {
   "codemirror_mode": {
    "name": "ipython",
    "version": 3
   },
   "file_extension": ".py",
   "mimetype": "text/x-python",
   "name": "python",
   "nbconvert_exporter": "python",
   "pygments_lexer": "ipython3",
   "version": "3.9.13"
  }
 },
 "nbformat": 4,
 "nbformat_minor": 5
}
